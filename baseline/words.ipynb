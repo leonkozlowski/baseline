{
 "cells": [
  {
   "cell_type": "code",
   "execution_count": 1,
   "metadata": {},
   "outputs": [],
   "source": [
    "from collections import Counter\n",
    "import pandas as pd\n",
    "import numpy as np\n",
    "from sklearn.preprocessing import LabelEncoder"
   ]
  },
  {
   "cell_type": "code",
   "execution_count": 2,
   "metadata": {},
   "outputs": [],
   "source": [
    "# load PR Newswire Annotated Dataset\n",
    "pr_newswire = pd.read_csv(\"../data/pr-newswire.csv\")"
   ]
  },
  {
   "cell_type": "code",
   "execution_count": 3,
   "metadata": {},
   "outputs": [],
   "source": [
    "raw_news_stories = pr_newswire[\"data\"]\n",
    "\n",
    "# Establish data and target for vectorization\n",
    "stories = raw_news_stories\n",
    "classifications = list(pr_newswire[\"target\"])"
   ]
  },
  {
   "cell_type": "code",
   "execution_count": 4,
   "metadata": {},
   "outputs": [],
   "source": [
    "predictions = []\n",
    "for story in list(stories):\n",
    "    classification = []\n",
    "    if \"cash dividend\" in story:\n",
    "        classification.append(\"cash-dividend\")\n",
    "    if \"stock split\" in story:\n",
    "        classification.append(\"stock-split\")\n",
    "    if \"merger\" in story or \"acquisition\" in story:\n",
    "        classification.append(\"merger-acquisition\")   \n",
    "    if \"equity offering\" in story:\n",
    "        classification.append(\"equity-offering\")\n",
    "    if \"bankruptcy\" in story:\n",
    "        classification.append(\"bankruptcy\")   \n",
    "    \n",
    "    if len(classification) == 1:\n",
    "        prediction = classification[0]\n",
    "    else:\n",
    "        prediction = \"ambiguous\"\n",
    "        \n",
    "    predictions.append(prediction)\n"
   ]
  },
  {
   "cell_type": "code",
   "execution_count": 5,
   "metadata": {},
   "outputs": [
    {
     "name": "stdout",
     "output_type": "stream",
     "text": [
      "Accuracy Score: 0.5233333333333333\n"
     ]
    }
   ],
   "source": [
    "# Calculate Correct Classifications\n",
    "correct_values = sum(\n",
    "    1 for cls, pred in zip(classifications, predictions) if cls == pred\n",
    ")\n",
    "\n",
    "# Total Values\n",
    "total_values = len(classifications)\n",
    "\n",
    "# Accuracy\n",
    "print(f\"Accuracy Score: {correct_values / total_values}\")"
   ]
  },
  {
   "cell_type": "code",
   "execution_count": null,
   "metadata": {},
   "outputs": [],
   "source": []
  },
  {
   "cell_type": "code",
   "execution_count": null,
   "metadata": {},
   "outputs": [],
   "source": []
  }
 ],
 "metadata": {
  "kernelspec": {
   "display_name": "Python 3",
   "language": "python",
   "name": "python3"
  },
  "language_info": {
   "codemirror_mode": {
    "name": "ipython",
    "version": 3
   },
   "file_extension": ".py",
   "mimetype": "text/x-python",
   "name": "python",
   "nbconvert_exporter": "python",
   "pygments_lexer": "ipython3",
   "version": "3.8.6"
  }
 },
 "nbformat": 4,
 "nbformat_minor": 4
}
