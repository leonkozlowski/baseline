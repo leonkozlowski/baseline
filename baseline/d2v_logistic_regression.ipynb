{
 "cells": [
  {
   "cell_type": "code",
   "execution_count": 1,
   "metadata": {},
   "outputs": [],
   "source": [
    "import re\n",
    "\n",
    "import numpy as np\n",
    "import pandas as pd\n",
    "\n",
    "from gensim.models.doc2vec import Doc2Vec, TaggedDocument\n",
    "from nltk.stem import PorterStemmer\n",
    "from sklearn.linear_model import LogisticRegression\n",
    "from sklearn.model_selection import train_test_split\n",
    "from sklearn.preprocessing import LabelEncoder\n",
    "\n",
    "from baseline.config import STOP_WORDS"
   ]
  },
  {
   "cell_type": "code",
   "execution_count": 2,
   "metadata": {},
   "outputs": [],
   "source": [
    "# Load PR Newswire Annotated Dataset\n",
    "pr_newswire = pd.read_csv(\"../data/pr-newswire.csv\")"
   ]
  },
  {
   "cell_type": "code",
   "execution_count": 3,
   "metadata": {},
   "outputs": [],
   "source": [
    "def text_cleaning(text: str):\n",
    "    \"\"\"Cleans raw text input for Doc2Vec.\"\"\"\n",
    "    ps = PorterStemmer()\n",
    "    \n",
    "    # Strip punctuation and special chars\n",
    "    stripped = re.sub(r\"[^\\w]\", \" \", text)\n",
    "    \n",
    "    # Tokenize and stem words\n",
    "    tokenized = [\n",
    "        ps.stem(token.lower()) for token in stripped.split(\" \")\n",
    "        if token.strip() and token.lower() not in STOP_WORDS\n",
    "    ]\n",
    "    \n",
    "    return tokenized"
   ]
  },
  {
   "cell_type": "code",
   "execution_count": 4,
   "metadata": {},
   "outputs": [],
   "source": [
    "raw_news_stories = pr_newswire[\"data\"]\n",
    "\n",
    "# Establish data and target for vectorization\n",
    "stories = list(map(text_cleaning, raw_news_stories))\n",
    "classifications = list(pr_newswire[\"target\"])"
   ]
  },
  {
   "cell_type": "code",
   "execution_count": 5,
   "metadata": {},
   "outputs": [],
   "source": [
    "# Build Doc2Vec `TaggedDocument` array\n",
    "documents = [\n",
    "    TaggedDocument(story, classifications[idx]) for idx, story in enumerate(stories)\n",
    "]"
   ]
  },
  {
   "cell_type": "code",
   "execution_count": 6,
   "metadata": {},
   "outputs": [],
   "source": [
    "# Build Doc2Vec model\n",
    "d2v = Doc2Vec(vector_size=40, min_count=2, epochs=30)\n",
    "# Build vocabulary\n",
    "d2v.build_vocab(documents)"
   ]
  },
  {
   "cell_type": "code",
   "execution_count": 7,
   "metadata": {},
   "outputs": [],
   "source": [
    "# Train doc2vec\n",
    "d2v.train(documents, total_examples=d2v.corpus_count, epochs=d2v.epochs)"
   ]
  },
  {
   "cell_type": "code",
   "execution_count": 8,
   "metadata": {},
   "outputs": [],
   "source": [
    "# Destructure words and tags from TaggedDocument\n",
    "words = [doc.words for doc in documents]\n",
    "tags = [doc.tags for doc in documents]\n",
    "\n",
    "# Train/test split\n",
    "x_train, x_test, y_train, y_test = train_test_split(words, tags, test_size=0.30)"
   ]
  },
  {
   "cell_type": "code",
   "execution_count": 9,
   "metadata": {},
   "outputs": [],
   "source": [
    "# Build vectors for training\n",
    "x_train_vectors = [\n",
    "    d2v.infer_vector(instance) for instance in x_train\n",
    "]\n",
    "\n",
    "# Build LabelEncoder for training\n",
    "label_encoder = LabelEncoder()\n",
    "label_encoder.fit(y_train)\n",
    "\n",
    "# Encode training lables\n",
    "y_train_labels = label_encoder.transform(np.asarray(y_train))"
   ]
  },
  {
   "cell_type": "code",
   "execution_count": 10,
   "metadata": {},
   "outputs": [
    {
     "data": {
      "text/plain": [
       "LogisticRegression(max_iter=1000)"
      ]
     },
     "execution_count": 10,
     "metadata": {},
     "output_type": "execute_result"
    }
   ],
   "source": [
    "# Fit Logistic Regression on infered vectors\n",
    "logreg = LogisticRegression(max_iter=1000)\n",
    "logreg.fit(x_train_vectors, y_train_labels)"
   ]
  },
  {
   "cell_type": "code",
   "execution_count": 11,
   "metadata": {},
   "outputs": [],
   "source": [
    "# Build vectors for testing\n",
    "x_test_vectors = [\n",
    "    d2v.infer_vector(instance) for instance in x_test\n",
    "]"
   ]
  },
  {
   "cell_type": "code",
   "execution_count": 12,
   "metadata": {},
   "outputs": [],
   "source": [
    "# Predictions\n",
    "y_pred = logreg.predict(x_test_vectors)"
   ]
  },
  {
   "cell_type": "code",
   "execution_count": 13,
   "metadata": {},
   "outputs": [],
   "source": [
    "# Encode test lables\n",
    "y_test_labels = label_encoder.transform(y_test)"
   ]
  },
  {
   "cell_type": "code",
   "execution_count": 14,
   "metadata": {},
   "outputs": [
    {
     "data": {
      "text/plain": [
       "1.0"
      ]
     },
     "execution_count": 14,
     "metadata": {},
     "output_type": "execute_result"
    }
   ],
   "source": [
    "sum(y_pred == y_test_labels) / len(y_test_labels)"
   ]
  },
  {
   "cell_type": "code",
   "execution_count": 15,
   "metadata": {},
   "outputs": [
    {
     "name": "stdout",
     "output_type": "stream",
     "text": [
      "Classes: [0 1 2 3 4]\n",
      "Intercepts: [-1.73612583  2.48357094 -0.87496209 -2.12554096  2.25305795]\n",
      "Coefficient: [[-0.02567255  0.02094903  0.03044113 -0.04656357 -0.13843421  0.04845258\n",
      "  -0.11854524 -0.0546567   0.1843302   0.02178436  0.1269556   0.14296206\n",
      "   0.05602187  0.23695993 -0.17744135 -0.0940457  -0.07995038 -0.12293863\n",
      "   0.04267786 -0.1222891   0.0320803   0.02562525  0.00247821 -0.07996972\n",
      "   0.1940991  -0.10888299 -0.089248   -0.00739349 -0.05942418  0.19752483\n",
      "   0.08175542  0.06914954  0.10963446  0.12905669  0.00175678  0.03741144\n",
      "   0.13895523  0.13153616  0.03678726 -0.01918678]\n",
      " [ 0.1507471  -0.16325552 -0.12400131 -0.00107521 -0.20047399  0.10421286\n",
      "  -0.03747996  0.47009845 -0.08302902  0.08101464  0.01342041 -0.10398624\n",
      "   0.13131551 -0.2411126   0.14408619 -0.08183739  0.13235863 -0.12969431\n",
      "  -0.00286667  0.27004158  0.08508954 -0.05688978  0.07443646 -0.190826\n",
      "  -0.28295075 -0.26534334 -0.08442405 -0.27731968  0.04531697  0.01203871\n",
      "   0.0452675  -0.25995571  0.13066514 -0.23606991 -0.27471397  0.1401572\n",
      "  -0.04731084  0.07078157 -0.05846641 -0.3483883 ]\n",
      " [-0.20283417  0.03337898 -0.3081541  -0.13690197  0.09044478 -0.2711618\n",
      "  -0.07805543  0.03999444 -0.03824479 -0.11444997 -0.04838932 -0.10370636\n",
      "  -0.06599691  0.04888251 -0.19376443  0.00811269 -0.07706199  0.16711894\n",
      "   0.09584865 -0.14919171  0.23162574 -0.02501535  0.16280061  0.26325687\n",
      "   0.1301374   0.09293565 -0.09812499  0.13419537 -0.29979987 -0.19507533\n",
      "   0.10731163  0.2551822  -0.04535722 -0.1182127  -0.01621503 -0.20389514\n",
      "  -0.23289611 -0.16916773 -0.21043672 -0.07738353]\n",
      " [-0.11485036 -0.03971639  0.42296417 -0.04804633  0.29199255 -0.10969531\n",
      "   0.07395576 -0.3167523  -0.04297023  0.05248413 -0.38457709  0.20661484\n",
      "   0.0613872  -0.11949945  0.12331648  0.20996267  0.12325412  0.17696088\n",
      "  -0.13157947  0.11042418 -0.05297968  0.12049479 -0.34337157 -0.09033678\n",
      "   0.03596641 -0.03243031  0.03846213  0.07564898  0.14853904 -0.09480955\n",
      "  -0.12086557  0.0592996  -0.26541526  0.04789069  0.13037883  0.22214143\n",
      "   0.23047916  0.24820401  0.02463326  0.0921526 ]\n",
      " [ 0.19260998  0.1486439  -0.02124989  0.23258708 -0.04352913  0.22819166\n",
      "   0.16012488 -0.13868389 -0.02008616 -0.04083316  0.29259039 -0.1418843\n",
      "  -0.18272767  0.0747696   0.10380311 -0.04219226 -0.09860037 -0.09144688\n",
      "  -0.00408038 -0.10898495 -0.2958159  -0.0642149   0.1036563   0.09787563\n",
      "  -0.07725216  0.31372098  0.2333349   0.07486882  0.16536804  0.08032133\n",
      "  -0.11346899 -0.12367562  0.07047288  0.17733523  0.15879339 -0.19581492\n",
      "  -0.08922744 -0.281354    0.20748261  0.35280602]]\n"
     ]
    }
   ],
   "source": [
    "print(f\"Classes: {logreg.classes_}\")\n",
    "print(f\"Intercepts: {logreg.intercept_}\")\n",
    "print(f\"Coefficient: {logreg.coef_}\")"
   ]
  },
  {
   "cell_type": "code",
   "execution_count": 16,
   "metadata": {},
   "outputs": [],
   "source": [
    "import matplotlib.pyplot as plt\n",
    "from sklearn.metrics import (\n",
    "    accuracy_score,\n",
    "    classification_report,\n",
    "    confusion_matrix,\n",
    "    recall_score,\n",
    "    precision_score,\n",
    ")"
   ]
  },
  {
   "cell_type": "code",
   "execution_count": 17,
   "metadata": {},
   "outputs": [],
   "source": [
    "c_matrix = confusion_matrix(y_test_labels, logreg.predict(x_test_vectors))"
   ]
  },
  {
   "cell_type": "code",
   "execution_count": 18,
   "metadata": {},
   "outputs": [
    {
     "data": {
      "image/png": "[encoded data removed]",
      "text/plain": [
       "<Figure size 720x720 with 1 Axes>"
      ]
     },
     "metadata": {
      "needs_background": "light"
     },
     "output_type": "display_data"
    }
   ],
   "source": [
    "# Plot confusion matrix\n",
    "fig, ax = plt.subplots(figsize=(10, 10))\n",
    "ax.imshow(c_matrix)\n",
    "\n",
    "ax.set_ylabel(\"Actual Label\")\n",
    "ax.set_xlabel(\"Predicted Label\")\n",
    "labels = tuple(label_encoder.inverse_transform([0, 1, 2, 3, 4]))\n",
    "ax.xaxis.set(ticks=(0, 1, 2, 3, 4), ticklabels=labels)\n",
    "ax.yaxis.set(ticks=(0, 1, 2, 3, 4), ticklabels=labels)\n",
    "for i in range(len(labels)):  # ref: (https://realpython.com/logistic-regression-python/)\n",
    "    for j in range(len(labels)):\n",
    "        ax.text(j, i, c_matrix[i, j], ha='center', va='center', color='red')"
   ]
  },
  {
   "cell_type": "code",
   "execution_count": 19,
   "metadata": {},
   "outputs": [
    {
     "name": "stdout",
     "output_type": "stream",
     "text": [
      "Precision Score: 1.0\n",
      "Recall Score: 1.0\n",
      "Accuracy Score: 1.0\n"
     ]
    }
   ],
   "source": [
    "# Calculate key metrics\n",
    "precision = precision_score(y_test_labels, y_pred, average=\"weighted\")\n",
    "recall = recall_score(y_test_labels, y_pred, average=\"weighted\")\n",
    "accuracy = accuracy_score(y_test_labels, y_pred)\n",
    "\n",
    "print(f\"Precision Score: {precision}\")\n",
    "print(f\"Recall Score: {recall}\")\n",
    "print(f\"Accuracy Score: {accuracy}\")"
   ]
  },
  {
   "cell_type": "code",
   "execution_count": null,
   "metadata": {},
   "outputs": [],
   "source": []
  }
 ],
 "metadata": {
  "kernelspec": {
   "display_name": "Python 3",
   "language": "python",
   "name": "python3"
  },
  "language_info": {
   "codemirror_mode": {
    "name": "ipython",
    "version": 3
   },
   "file_extension": ".py",
   "mimetype": "text/x-python",
   "name": "python",
   "nbconvert_exporter": "python",
   "pygments_lexer": "ipython3",
   "version": "3.8.6"
  }
 },
 "nbformat": 4,
 "nbformat_minor": 4
}
