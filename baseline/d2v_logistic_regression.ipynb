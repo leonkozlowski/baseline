{
 "cells": [
  {
   "cell_type": "code",
   "execution_count": 1,
   "metadata": {},
   "outputs": [],
   "source": [
    "import re\n",
    "\n",
    "import numpy as np\n",
    "import pandas as pd\n",
    "\n",
    "from gensim.models.doc2vec import Doc2Vec, TaggedDocument\n",
    "from nltk.stem import PorterStemmer\n",
    "from sklearn.linear_model import LogisticRegression\n",
    "from sklearn.model_selection import train_test_split\n",
    "from sklearn.preprocessing import LabelEncoder\n",
    "\n",
    "from baseline.config import STOP_WORDS"
   ]
  },
  {
   "cell_type": "code",
   "execution_count": 2,
   "metadata": {},
   "outputs": [],
   "source": [
    "# Load PR Newswire Annotated Dataset\n",
    "pr_newswire = pd.read_csv(\"../data/pr-newswire.csv\")"
   ]
  },
  {
   "cell_type": "code",
   "execution_count": 3,
   "metadata": {},
   "outputs": [],
   "source": [
    "def text_cleaning(text: str):\n",
    "    \"\"\"Cleans raw text input for Doc2Vec.\"\"\"\n",
    "    ps = PorterStemmer()\n",
    "    \n",
    "    # Strip punctuation and special chars\n",
    "    stripped = re.sub(r\"[^\\w]\", \" \", text)\n",
    "    \n",
    "    # Tokenize and stem words\n",
    "    tokenized = [\n",
    "        ps.stem(token.lower()) for token in stripped.split(\" \")\n",
    "        if token.strip() and token.lower() not in STOP_WORDS\n",
    "    ]\n",
    "    \n",
    "    return tokenized"
   ]
  },
  {
   "cell_type": "code",
   "execution_count": 4,
   "metadata": {},
   "outputs": [],
   "source": [
    "raw_news_stories = pr_newswire[\"data\"]\n",
    "\n",
    "# Establish data and target for vectorization\n",
    "stories = list(map(text_cleaning, raw_news_stories))\n",
    "classifications = list(pr_newswire[\"target\"])"
   ]
  },
  {
   "cell_type": "code",
   "execution_count": 5,
   "metadata": {},
   "outputs": [],
   "source": [
    "# Build Doc2Vec `TaggedDocument` array\n",
    "documents = [\n",
    "    TaggedDocument(story, classifications[idx]) for idx, story in enumerate(stories)\n",
    "]"
   ]
  },
  {
   "cell_type": "code",
   "execution_count": 6,
   "metadata": {},
   "outputs": [],
   "source": [
    "# Build Doc2Vec model\n",
    "d2v = Doc2Vec(vector_size=40, min_count=2, epochs=30)\n",
    "# Build vocabulary\n",
    "d2v.build_vocab(documents)"
   ]
  },
  {
   "cell_type": "code",
   "execution_count": 7,
   "metadata": {},
   "outputs": [],
   "source": [
    "# Train doc2vec\n",
    "d2v.train(documents, total_examples=d2v.corpus_count, epochs=d2v.epochs)"
   ]
  },
  {
   "cell_type": "code",
   "execution_count": 8,
   "metadata": {},
   "outputs": [],
   "source": [
    "# Destructure words and tags from TaggedDocument\n",
    "words = [doc.words for doc in documents]\n",
    "tags = [doc.tags for doc in documents]\n",
    "\n",
    "# Train/test split\n",
    "x_train, x_test, y_train, y_test = train_test_split(words, tags, test_size=0.30)"
   ]
  },
  {
   "cell_type": "code",
   "execution_count": 9,
   "metadata": {},
   "outputs": [],
   "source": [
    "# Build vectors for training\n",
    "x_train_vectors = [\n",
    "    d2v.infer_vector(instance) for instance in x_train\n",
    "]\n",
    "\n",
    "# Build LabelEncoder for training\n",
    "label_encoder = LabelEncoder()\n",
    "label_encoder.fit(y_train)\n",
    "\n",
    "# Encode training lables\n",
    "y_train_labels = label_encoder.transform(np.asarray(y_train))"
   ]
  },
  {
   "cell_type": "code",
   "execution_count": 10,
   "metadata": {},
   "outputs": [
    {
     "data": {
      "text/plain": [
       "LogisticRegression(max_iter=1000)"
      ]
     },
     "execution_count": 10,
     "metadata": {},
     "output_type": "execute_result"
    }
   ],
   "source": [
    "# Fit Logistic Regression on infered vectors\n",
    "logreg = LogisticRegression(max_iter=1000)\n",
    "logreg.fit(x_train_vectors, y_train_labels)"
   ]
  },
  {
   "cell_type": "code",
   "execution_count": 11,
   "metadata": {},
   "outputs": [],
   "source": [
    "# Build vectors for testing\n",
    "x_test_vectors = [\n",
    "    d2v.infer_vector(instance) for instance in x_test\n",
    "]"
   ]
  },
  {
   "cell_type": "code",
   "execution_count": 12,
   "metadata": {},
   "outputs": [],
   "source": [
    "# Predictions\n",
    "y_pred = logreg.predict(x_test_vectors)"
   ]
  },
  {
   "cell_type": "code",
   "execution_count": 13,
   "metadata": {},
   "outputs": [],
   "source": [
    "# Encode test lables\n",
    "y_test_labels = label_encoder.transform(y_test)"
   ]
  },
  {
   "cell_type": "code",
   "execution_count": 14,
   "metadata": {},
   "outputs": [
    {
     "name": "stdout",
     "output_type": "stream",
     "text": [
      "Classes: [0 1 2 3 4]\n",
      "Intercepts: [-1.54959932  6.32819657 -2.3796649  -1.77295982 -0.62597253]\n",
      "Coefficient: [[-0.12392093  0.06596854 -0.10229762  0.05581788 -0.25018707 -0.19101948\n",
      "   0.21236489 -0.02688316 -0.05917071 -0.04620776  0.00124892  0.411607\n",
      "   0.19573275  0.13031226  0.03803705  0.02350673 -0.23263019 -0.11652239\n",
      "   0.27102255  0.01647313  0.1166264  -0.00956856 -0.1224562   0.08819635\n",
      "  -0.00084063 -0.27251609  0.12522127 -0.110336   -0.03560385  0.03135884\n",
      "  -0.26252884 -0.05782605  0.0253179   0.21827564  0.13371611  0.09336301\n",
      "  -0.03676296  0.08845897 -0.17304729 -0.10579551]\n",
      " [ 0.02985462 -0.03491439 -0.06440372 -0.32414903 -0.0889819  -0.12906868\n",
      "   0.22310238  0.18792153 -0.20581954  0.09028222  0.1997371   0.0059881\n",
      "   0.14661067  0.24890262 -0.03772015 -0.32045822  0.33346326  0.07799395\n",
      "  -0.28278225  0.07889194 -0.28242881  0.16855442  0.139246   -0.18004032\n",
      "  -0.12595658  0.16245993 -0.04174238 -0.168446   -0.00657899  0.21064462\n",
      "   0.33871414 -0.09664775  0.07327066 -0.1053076   0.16417983 -0.19694256\n",
      "  -0.05673363 -0.05594454  0.45494093 -0.12792785]\n",
      " [-0.20226751 -0.17902532 -0.09560774  0.02678807  0.59471458  0.06838365\n",
      "  -0.24266065 -0.0806437   0.15640176  0.05779232 -0.21842506  0.06382127\n",
      "   0.13951436 -0.33770143 -0.10779725  0.11303566  0.02124811 -0.2339352\n",
      "  -0.00967754  0.40210942  0.14209588 -0.18157918  0.07504324  0.02091552\n",
      "   0.06577348  0.02765226  0.10222223  0.24689666 -0.17649386  0.04044203\n",
      "   0.06521843  0.24455416 -0.20891648 -0.07134032 -0.10411344 -0.00634425\n",
      "  -0.00430976  0.06145347 -0.11115899  0.01449434]\n",
      " [-0.01719101  0.05444974  0.0674809   0.17929577 -0.08663653 -0.03573951\n",
      "   0.03293031 -0.35341486  0.07242253 -0.15684191  0.0481944  -0.62269146\n",
      "  -0.16677134  0.0873395   0.12624395  0.13941885  0.02863741  0.13427116\n",
      "   0.0068694  -0.23238892 -0.00308144 -0.18823885 -0.09337392  0.02753442\n",
      "   0.01880499  0.01196778 -0.10667747 -0.0327855  -0.04211621 -0.17977561\n",
      "  -0.09931401 -0.23408301  0.19265742 -0.20358198 -0.08719884 -0.21711249\n",
      "   0.15991889 -0.23071724 -0.26797609  0.01929705]\n",
      " [ 0.31352483  0.09352143  0.19482817  0.0622473  -0.16890908  0.28744401\n",
      "  -0.22573692  0.27302019  0.03616596  0.05497514 -0.03075536  0.14127508\n",
      "  -0.31508643 -0.12885295 -0.01876361  0.04449697 -0.1507186   0.13819248\n",
      "   0.01456783 -0.26508557  0.02678797  0.21083217  0.0015409   0.04339403\n",
      "   0.04221874  0.07043613 -0.07902365  0.06467084  0.26079293 -0.10266989\n",
      "  -0.04208972  0.14400265 -0.0823295   0.16195425 -0.10658366  0.3270363\n",
      "  -0.06211255  0.13674934  0.09724144  0.19993197]]\n"
     ]
    }
   ],
   "source": [
    "print(f\"Classes: {logreg.classes_}\")\n",
    "print(f\"Intercepts: {logreg.intercept_}\")\n",
    "print(f\"Coefficient: {logreg.coef_}\")"
   ]
  },
  {
   "cell_type": "code",
   "execution_count": 15,
   "metadata": {},
   "outputs": [],
   "source": [
    "import matplotlib.pyplot as plt\n",
    "from sklearn.metrics import (\n",
    "    classification_report,\n",
    "    confusion_matrix,\n",
    "    f1_score,\n",
    "    recall_score,\n",
    "    precision_score,\n",
    ")"
   ]
  },
  {
   "cell_type": "code",
   "execution_count": 16,
   "metadata": {},
   "outputs": [],
   "source": [
    "c_matrix = confusion_matrix(y_test_labels, logreg.predict(x_test_vectors))"
   ]
  },
  {
   "cell_type": "code",
   "execution_count": 17,
   "metadata": {},
   "outputs": [
    {
     "data": {
      "image/png": "[encoded data removed]",
      "text/plain": [
       "<Figure size 720x720 with 1 Axes>"
      ]
     },
     "metadata": {
      "needs_background": "light"
     },
     "output_type": "display_data"
    }
   ],
   "source": [
    "# Plot confusion matrix\n",
    "fig, ax = plt.subplots(figsize=(10, 10))\n",
    "ax.imshow(c_matrix)\n",
    "\n",
    "ax.set_ylabel(\"Actual Label\")\n",
    "ax.set_xlabel(\"Predicted Label\")\n",
    "labels = tuple(label_encoder.inverse_transform([0, 1, 2, 3, 4]))\n",
    "ax.xaxis.set(ticks=(0, 1, 2, 3, 4), ticklabels=labels)\n",
    "ax.yaxis.set(ticks=(0, 1, 2, 3, 4), ticklabels=labels)\n",
    "for i in range(len(labels)):  # ref: (https://realpython.com/logistic-regression-python/)\n",
    "    for j in range(len(labels)):\n",
    "        ax.text(j, i, c_matrix[i, j], ha='center', va='center', color='red')"
   ]
  },
  {
   "cell_type": "code",
   "execution_count": 18,
   "metadata": {},
   "outputs": [
    {
     "name": "stdout",
     "output_type": "stream",
     "text": [
      "Precision Score: 0.9697641375390735\n",
      "Recall Score: 0.9666666666666667\n",
      "F1 Score: 0.9662233066399732\n"
     ]
    }
   ],
   "source": [
    "# Calculate key metrics\n",
    "precision = precision_score(y_test_labels, y_pred, average=\"weighted\")\n",
    "recall = recall_score(y_test_labels, y_pred, average=\"weighted\")\n",
    "f1 = f1_score(y_test_labels, y_pred, average=\"weighted\")\n",
    "\n",
    "print(f\"Precision Score: {precision}\")\n",
    "print(f\"Recall Score: {recall}\")\n",
    "print(f\"F1 Score: {f1}\")"
   ]
  },
  {
   "cell_type": "code",
   "execution_count": null,
   "metadata": {},
   "outputs": [],
   "source": []
  }
 ],
 "metadata": {
  "kernelspec": {
   "display_name": "Python 3",
   "language": "python",
   "name": "python3"
  },
  "language_info": {
   "codemirror_mode": {
    "name": "ipython",
    "version": 3
   },
   "file_extension": ".py",
   "mimetype": "text/x-python",
   "name": "python",
   "nbconvert_exporter": "python",
   "pygments_lexer": "ipython3",
   "version": "3.8.6"
  }
 },
 "nbformat": 4,
 "nbformat_minor": 4
}
