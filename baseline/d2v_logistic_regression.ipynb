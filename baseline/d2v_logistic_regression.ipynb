{
 "cells": [
  {
   "cell_type": "code",
   "execution_count": 1,
   "metadata": {},
   "outputs": [],
   "source": [
    "import re\n",
    "\n",
    "import numpy as np\n",
    "import pandas as pd\n",
    "\n",
    "from gensim.models.doc2vec import Doc2Vec, TaggedDocument\n",
    "from nltk.stem import PorterStemmer\n",
    "from sklearn.linear_model import LogisticRegression\n",
    "from sklearn.model_selection import train_test_split\n",
    "from sklearn.preprocessing import LabelEncoder\n",
    "\n",
    "from baseline.config import STOP_WORDS"
   ]
  },
  {
   "cell_type": "code",
   "execution_count": 2,
   "metadata": {},
   "outputs": [],
   "source": [
    "# Load PR Newswire Annotated Dataset\n",
    "pr_newswire = pd.read_csv(\"../data/pr-newswire.csv\")"
   ]
  },
  {
   "cell_type": "code",
   "execution_count": 3,
   "metadata": {},
   "outputs": [],
   "source": [
    "def text_cleaning(text: str):\n",
    "    \"\"\"Cleans raw text input for Doc2Vec.\"\"\"\n",
    "    ps = PorterStemmer()\n",
    "    \n",
    "    # Strip punctuation and special chars\n",
    "    stripped = re.sub(r\"[^\\w]\", \" \", text)\n",
    "    \n",
    "    # Tokenize and stem words\n",
    "    tokenized = [\n",
    "        ps.stem(token.lower()) for token in stripped.split(\" \")\n",
    "        if token.strip() and token.lower() not in STOP_WORDS\n",
    "    ]\n",
    "    \n",
    "    return tokenized"
   ]
  },
  {
   "cell_type": "code",
   "execution_count": 4,
   "metadata": {},
   "outputs": [],
   "source": [
    "raw_news_stories = pr_newswire[\"data\"]\n",
    "\n",
    "# Establish data and target for vectorization\n",
    "stories = list(map(text_cleaning, raw_news_stories))\n",
    "classifications = list(pr_newswire[\"target\"])"
   ]
  },
  {
   "cell_type": "code",
   "execution_count": 5,
   "metadata": {},
   "outputs": [],
   "source": [
    "# Build Doc2Vec `TaggedDocument` array\n",
    "documents = [\n",
    "    TaggedDocument(story, classifications[idx]) for idx, story in enumerate(stories)\n",
    "]"
   ]
  },
  {
   "cell_type": "code",
   "execution_count": 6,
   "metadata": {},
   "outputs": [],
   "source": [
    "# Build Doc2Vec model\n",
    "d2v = Doc2Vec(vector_size=40, min_count=2, epochs=30)\n",
    "# Build vocabulary\n",
    "d2v.build_vocab(documents)"
   ]
  },
  {
   "cell_type": "code",
   "execution_count": 7,
   "metadata": {},
   "outputs": [],
   "source": [
    "# Train doc2vec\n",
    "d2v.train(documents, total_examples=d2v.corpus_count, epochs=d2v.epochs)"
   ]
  },
  {
   "cell_type": "code",
   "execution_count": 8,
   "metadata": {},
   "outputs": [],
   "source": [
    "# Destructure words and tags from TaggedDocument\n",
    "words = [doc.words for doc in documents]\n",
    "tags = [doc.tags for doc in documents]\n",
    "\n",
    "# Train/test split\n",
    "x_train, x_test, y_train, y_test = train_test_split(words, tags, test_size=0.30)"
   ]
  },
  {
   "cell_type": "code",
   "execution_count": 9,
   "metadata": {},
   "outputs": [],
   "source": [
    "# Build vectors for training\n",
    "x_train_vectors = [\n",
    "    d2v.infer_vector(instance) for instance in x_train\n",
    "]\n",
    "\n",
    "# Build LabelEncoder for training\n",
    "label_encoder = LabelEncoder()\n",
    "label_encoder.fit(y_train)\n",
    "\n",
    "# Encode training lables\n",
    "y_train_labels = label_encoder.transform(np.asarray(y_train))"
   ]
  },
  {
   "cell_type": "code",
   "execution_count": 10,
   "metadata": {},
   "outputs": [
    {
     "data": {
      "text/plain": [
       "LogisticRegression(max_iter=1000)"
      ]
     },
     "execution_count": 10,
     "metadata": {},
     "output_type": "execute_result"
    }
   ],
   "source": [
    "# Fit Logistic Regression on infered vectors\n",
    "logreg = LogisticRegression(max_iter=1000)\n",
    "logreg.fit(x_train_vectors, y_train_labels)"
   ]
  },
  {
   "cell_type": "code",
   "execution_count": 11,
   "metadata": {},
   "outputs": [],
   "source": [
    "# Build vectors for testing\n",
    "x_test_vectors = [\n",
    "    d2v.infer_vector(instance) for instance in x_test\n",
    "]"
   ]
  },
  {
   "cell_type": "code",
   "execution_count": 12,
   "metadata": {},
   "outputs": [],
   "source": [
    "# Predictions\n",
    "y_pred = logreg.predict(x_test_vectors)"
   ]
  },
  {
   "cell_type": "code",
   "execution_count": 13,
   "metadata": {},
   "outputs": [],
   "source": [
    "# Encode test lables\n",
    "y_test_labels = label_encoder.transform(y_test)"
   ]
  },
  {
   "cell_type": "code",
   "execution_count": 14,
   "metadata": {},
   "outputs": [
    {
     "name": "stdout",
     "output_type": "stream",
     "text": [
      "Classes: [0 1 2 3 4]\n",
      "Intercepts: [-1.41067506  3.92891883 -0.53737455 -0.05683173 -1.9240375 ]\n",
      "Coefficient: [[-1.30563084e-02 -1.05045021e-01  1.00970733e-01  9.91709048e-02\n",
      "   7.84483780e-02  5.36846907e-02  2.59367611e-02  1.01729434e-01\n",
      "  -7.58142214e-02  2.58792725e-02 -1.18023274e-01 -9.33616203e-02\n",
      "   5.61946569e-02 -6.68543681e-02  1.14426246e-01  5.85409028e-03\n",
      "   9.76904596e-02  9.41875141e-02  4.29296729e-02 -2.76973769e-02\n",
      "   1.08347277e-01  1.28654977e-01  1.22313509e-01  5.40351542e-02\n",
      "   1.49752780e-02  5.72926407e-02 -7.75495976e-02 -6.02531169e-02\n",
      "   6.92806150e-02  8.09783861e-03  1.11869867e-01 -9.53878667e-02\n",
      "  -1.55540984e-01  1.61787430e-01 -6.24450265e-02 -1.42481833e-02\n",
      "  -1.37203319e-01  2.36043591e-01 -1.09076843e-01 -1.47313982e-02]\n",
      " [-1.44145332e-01 -4.97374134e-02  9.23633175e-03 -6.19171929e-02\n",
      "   1.63984415e-01 -5.55859308e-03  1.19828374e-01 -2.47728284e-01\n",
      "   4.14905819e-02 -9.28197084e-02 -2.16336105e-01  2.98381087e-04\n",
      "  -9.38018773e-02  2.18726196e-01  4.34400448e-02 -1.94574889e-02\n",
      "  -4.41526389e-01 -2.02699486e-01 -1.94293753e-02  8.13300785e-03\n",
      "  -3.55635385e-01 -3.66508531e-03 -1.37566244e-01  1.76421637e-01\n",
      "  -1.72161412e-01 -1.50806896e-01  1.88139258e-01  9.23125110e-02\n",
      "  -3.28983952e-02  6.83954419e-02 -5.73407493e-02 -1.45109974e-01\n",
      "  -1.24103007e-01  1.30606264e-01  1.79458665e-01  9.92800676e-03\n",
      "   3.53874891e-02  7.50559776e-02  6.62280844e-02  1.64165134e-01]\n",
      " [-3.19312234e-02 -2.02141233e-02 -8.13425687e-02 -7.55168199e-03\n",
      "  -3.06399217e-02 -1.67662546e-01  2.91486259e-01 -5.48844786e-02\n",
      "   2.17665051e-01 -5.58465507e-02  1.36565896e-01  8.13749309e-02\n",
      "  -1.20991371e-01 -8.11131643e-02  1.39658872e-01  8.73326079e-02\n",
      "   2.42359785e-01  1.16059814e-01  2.36262813e-02 -3.22174365e-01\n",
      "   6.67254510e-02 -6.31012975e-02 -1.33240597e-01 -1.45672187e-01\n",
      "   2.84236490e-01  5.01309402e-02  1.76115109e-02 -2.38554004e-02\n",
      "  -2.45722076e-01  2.08684063e-01 -8.06370582e-02  1.84933272e-01\n",
      "   8.97542848e-02 -6.92321842e-02 -1.43776833e-01 -2.26598141e-01\n",
      "   8.00326829e-02 -1.86408205e-02 -1.34153658e-01 -9.10026735e-02]\n",
      " [ 2.82854628e-01 -5.24361678e-02  1.28021949e-01 -5.73346575e-02\n",
      "  -1.64672899e-01  1.49706715e-01 -2.19197054e-01  1.87196469e-01\n",
      "  -4.57663989e-03  1.51319512e-01  7.84154959e-02 -1.07307709e-01\n",
      "   1.32181314e-02 -9.50002418e-02 -1.82985822e-01 -2.68553663e-02\n",
      "   4.66936295e-02 -1.59563071e-01 -2.33202839e-01  2.49606365e-01\n",
      "   7.81329509e-02 -2.33724519e-01  9.56120592e-02  1.46668012e-01\n",
      "  -1.90225210e-01  2.31992046e-01 -3.24108400e-01  2.75114845e-02\n",
      "   2.68846538e-01 -3.30900020e-01  6.63534218e-02  1.56303502e-01\n",
      "  -1.25798555e-03 -5.03258998e-02  1.75932193e-01 -9.90186205e-02\n",
      "   1.55130408e-01 -4.56637009e-01 -1.00396701e-01  8.75332408e-02]\n",
      " [-9.37217636e-02  2.27432725e-01 -1.56886445e-01  2.76326276e-02\n",
      "  -4.71199724e-02 -3.01702666e-02 -2.18054340e-01  1.36868593e-02\n",
      "  -1.78764772e-01 -2.85325253e-02  1.19377987e-01  1.18996018e-01\n",
      "   1.45380460e-01  2.42415785e-02 -1.14539342e-01 -4.68738430e-02\n",
      "   5.47825143e-02  1.52015229e-01  1.86076260e-01  9.21323696e-02\n",
      "   1.02429706e-01  1.71835924e-01  5.28812732e-02 -2.31452616e-01\n",
      "   6.31748543e-02 -1.88608732e-01  1.95907229e-01 -3.57154782e-02\n",
      "  -5.95066809e-02  4.57226761e-02 -4.02454815e-02 -1.00738932e-01\n",
      "   1.91147691e-01 -1.72835609e-01 -1.49168999e-01  3.29936938e-01\n",
      "  -1.33347261e-01  1.64178261e-01  2.77399118e-01 -1.45964303e-01]]\n"
     ]
    }
   ],
   "source": [
    "print(f\"Classes: {logreg.classes_}\")\n",
    "print(f\"Intercepts: {logreg.intercept_}\")\n",
    "print(f\"Coefficient: {logreg.coef_}\")"
   ]
  },
  {
   "cell_type": "code",
   "execution_count": 15,
   "metadata": {},
   "outputs": [],
   "source": [
    "import matplotlib.pyplot as plt\n",
    "from sklearn.metrics import (\n",
    "    classification_report,\n",
    "    confusion_matrix,\n",
    "    f1_score,\n",
    "    recall_score,\n",
    "    precision_score,\n",
    ")"
   ]
  },
  {
   "cell_type": "code",
   "execution_count": 16,
   "metadata": {},
   "outputs": [],
   "source": [
    "c_matrix = confusion_matrix(y_test_labels, logreg.predict(x_test_vectors))"
   ]
  },
  {
   "cell_type": "code",
   "execution_count": 17,
   "metadata": {},
   "outputs": [
    {
     "data": {
      "image/png": "[encoded data removed]",
      "text/plain": [
       "<Figure size 720x720 with 1 Axes>"
      ]
     },
     "metadata": {
      "needs_background": "light"
     },
     "output_type": "display_data"
    }
   ],
   "source": [
    "# Plot confusion matrix\n",
    "fig, ax = plt.subplots(figsize=(10, 10))\n",
    "ax.imshow(c_matrix)\n",
    "\n",
    "ax.set_ylabel(\"Actual Label\")\n",
    "ax.set_xlabel(\"Predicted Label\")\n",
    "labels = tuple(label_encoder.inverse_transform([0, 1, 2, 3, 4]))\n",
    "ax.xaxis.set(ticks=(0, 1, 2, 3, 4), ticklabels=labels)\n",
    "ax.yaxis.set(ticks=(0, 1, 2, 3, 4), ticklabels=labels)\n",
    "for i in range(len(labels)):  # ref: (https://realpython.com/logistic-regression-python/)\n",
    "    for j in range(len(labels)):\n",
    "        ax.text(j, i, c_matrix[i, j], ha='center', va='center', color='red')"
   ]
  },
  {
   "cell_type": "code",
   "execution_count": 18,
   "metadata": {},
   "outputs": [
    {
     "name": "stdout",
     "output_type": "stream",
     "text": [
      "Precision Score: 0.9833333333333333\n",
      "Recall Score: 0.9821428571428571\n",
      "F1 Score: 0.982025568848229\n"
     ]
    }
   ],
   "source": [
    "# Calculate key metrics\n",
    "precision = precision_score(y_test_labels, y_pred, average=\"weighted\")\n",
    "recall = recall_score(y_test_labels, y_pred, average=\"weighted\")\n",
    "f1 = f1_score(y_test_labels, y_pred, average=\"weighted\")\n",
    "\n",
    "print(f\"Precision Score: {precision}\")\n",
    "print(f\"Recall Score: {recall}\")\n",
    "print(f\"F1 Score: {f1}\")"
   ]
  },
  {
   "cell_type": "code",
   "execution_count": null,
   "metadata": {},
   "outputs": [],
   "source": []
  },
  {
   "cell_type": "code",
   "execution_count": null,
   "metadata": {},
   "outputs": [],
   "source": []
  }
 ],
 "metadata": {
  "kernelspec": {
   "display_name": "Python 3",
   "language": "python",
   "name": "python3"
  },
  "language_info": {
   "codemirror_mode": {
    "name": "ipython",
    "version": 3
   },
   "file_extension": ".py",
   "mimetype": "text/x-python",
   "name": "python",
   "nbconvert_exporter": "python",
   "pygments_lexer": "ipython3",
   "version": "3.8.6"
  }
 },
 "nbformat": 4,
 "nbformat_minor": 4
}
