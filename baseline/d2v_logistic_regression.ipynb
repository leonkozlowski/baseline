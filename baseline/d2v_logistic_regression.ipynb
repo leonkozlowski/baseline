{
 "cells": [
  {
   "cell_type": "code",
   "execution_count": 1,
   "metadata": {},
   "outputs": [],
   "source": [
    "import re\n",
    "\n",
    "import numpy as np\n",
    "import pandas as pd\n",
    "\n",
    "from gensim.models.doc2vec import Doc2Vec, TaggedDocument\n",
    "from nltk.stem import PorterStemmer\n",
    "from sklearn.linear_model import LogisticRegression\n",
    "from sklearn.model_selection import train_test_split\n",
    "from sklearn.preprocessing import LabelEncoder\n",
    "\n",
    "from baseline.config import STOP_WORDS"
   ]
  },
  {
   "cell_type": "code",
   "execution_count": 2,
   "metadata": {},
   "outputs": [],
   "source": [
    "# Load PR Newswire Annotated Dataset\n",
    "pr_newswire = pd.read_csv(\"../data/pr-newswire.csv\")"
   ]
  },
  {
   "cell_type": "code",
   "execution_count": 3,
   "metadata": {},
   "outputs": [],
   "source": [
    "def text_cleaning(text: str):\n",
    "    \"\"\"Cleans raw text input for Doc2Vec.\"\"\"\n",
    "    ps = PorterStemmer()\n",
    "    \n",
    "    # Strip punctuation and special chars\n",
    "    stripped = re.sub(r\"[^\\w]\", \" \", text)\n",
    "    \n",
    "    # Tokenize and stem words\n",
    "    tokenized = [\n",
    "        ps.stem(token.lower()) for token in stripped.split(\" \")\n",
    "        if token.strip() and token.lower() not in STOP_WORDS\n",
    "    ]\n",
    "    \n",
    "    return tokenized"
   ]
  },
  {
   "cell_type": "code",
   "execution_count": 4,
   "metadata": {},
   "outputs": [],
   "source": [
    "raw_news_stories = pr_newswire[\"data\"]\n",
    "\n",
    "# Establish data and target for vectorization\n",
    "stories = list(map(text_cleaning, raw_news_stories))\n",
    "classifications = list(pr_newswire[\"target\"])"
   ]
  },
  {
   "cell_type": "code",
   "execution_count": 5,
   "metadata": {},
   "outputs": [],
   "source": [
    "# Build Doc2Vec `TaggedDocument` array\n",
    "documents = [\n",
    "    TaggedDocument(story, classifications[idx]) for idx, story in enumerate(stories)\n",
    "]"
   ]
  },
  {
   "cell_type": "code",
   "execution_count": 6,
   "metadata": {},
   "outputs": [],
   "source": [
    "# Build Doc2Vec model\n",
    "d2v = Doc2Vec(vector_size=40, min_count=2, epochs=30)\n",
    "# Build vocabulary\n",
    "d2v.build_vocab(documents)"
   ]
  },
  {
   "cell_type": "code",
   "execution_count": 7,
   "metadata": {},
   "outputs": [],
   "source": [
    "# Train doc2vec\n",
    "d2v.train(documents, total_examples=d2v.corpus_count, epochs=d2v.epochs)"
   ]
  },
  {
   "cell_type": "code",
   "execution_count": 8,
   "metadata": {},
   "outputs": [],
   "source": [
    "# Destructure words and tags from TaggedDocument\n",
    "words = [doc.words for doc in documents]\n",
    "tags = [doc.tags for doc in documents]\n",
    "\n",
    "# Train/test split\n",
    "x_train, x_test, y_train, y_test = train_test_split(words, tags, test_size=0.20)"
   ]
  },
  {
   "cell_type": "code",
   "execution_count": 9,
   "metadata": {},
   "outputs": [],
   "source": [
    "# Build vectors for training\n",
    "x_train_vectors = [\n",
    "    d2v.infer_vector(instance) for instance in x_train\n",
    "]\n",
    "\n",
    "# Build LabelEncoder for training\n",
    "label_encoder = LabelEncoder()\n",
    "label_encoder.fit(y_train)\n",
    "\n",
    "# Encode training lables\n",
    "y_train_labels = label_encoder.transform(np.asarray(y_train))"
   ]
  },
  {
   "cell_type": "code",
   "execution_count": 10,
   "metadata": {},
   "outputs": [
    {
     "data": {
      "text/plain": [
       "LogisticRegression(max_iter=1000)"
      ]
     },
     "execution_count": 10,
     "metadata": {},
     "output_type": "execute_result"
    }
   ],
   "source": [
    "# Fit Logistic Regression on infered vectors\n",
    "logreg = LogisticRegression(max_iter=1000)\n",
    "logreg.fit(x_train_vectors, y_train_labels)"
   ]
  },
  {
   "cell_type": "code",
   "execution_count": 11,
   "metadata": {},
   "outputs": [],
   "source": [
    "# Build vectors for testing\n",
    "x_test_vectors = [\n",
    "    d2v.infer_vector(instance) for instance in x_test\n",
    "]"
   ]
  },
  {
   "cell_type": "code",
   "execution_count": 12,
   "metadata": {},
   "outputs": [],
   "source": [
    "# Predictions\n",
    "y_pred = logreg.predict(x_test_vectors)"
   ]
  },
  {
   "cell_type": "code",
   "execution_count": 13,
   "metadata": {},
   "outputs": [],
   "source": [
    "# Encode test lables\n",
    "y_test_labels = label_encoder.transform(y_test)"
   ]
  },
  {
   "cell_type": "code",
   "execution_count": 14,
   "metadata": {},
   "outputs": [
    {
     "name": "stdout",
     "output_type": "stream",
     "text": [
      "Classes: [0 1 2 3 4]\n",
      "Intercepts: [-2.27650479  5.37801414 -3.28943025 -2.02564289  2.2135638 ]\n",
      "Coefficient: [[ 8.47398417e-03  2.42474801e-01 -2.06024352e-01 -8.72151431e-02\n",
      "   9.97281185e-02 -1.54858834e-02  6.87665093e-02  1.38645882e-01\n",
      "  -2.79705313e-01  1.02054434e-02 -1.73168238e-01  2.54964421e-02\n",
      "   7.47701528e-02 -4.04753425e-02  5.34764047e-02 -2.31087019e-01\n",
      "  -8.85379568e-02  2.78927532e-01  9.38882371e-02 -4.32757770e-03\n",
      "   5.95319522e-02  9.49008107e-02 -1.51984211e-01 -1.51204894e-01\n",
      "  -2.03307192e-01  2.08503243e-01 -1.40060598e-01 -7.82351589e-02\n",
      "   2.53485574e-02 -1.12816391e-01 -9.62168662e-02  2.10672463e-01\n",
      "   1.37052417e-02  7.43842426e-02 -1.64100897e-02  8.68274264e-02\n",
      "  -1.35165270e-01  2.64876780e-01  3.33347904e-01 -3.47186301e-01]\n",
      " [ 4.54433673e-01 -2.27132291e-01  3.92907778e-01  2.11779838e-01\n",
      "   5.59875104e-02 -1.05532917e-01  2.93898146e-01 -3.07153091e-01\n",
      "   2.22586368e-01 -7.90071538e-02  5.33443175e-02  2.77525612e-01\n",
      "  -1.22079682e-01  2.40970313e-01 -7.04404459e-02 -1.08211869e-02\n",
      "  -4.51631858e-02 -1.09199370e-01 -1.08533776e-01 -3.51536361e-02\n",
      "   1.46532125e-01  6.42162653e-02  7.06850528e-02 -1.74774111e-01\n",
      "   1.63390978e-02 -1.03679486e-01 -3.10902960e-01 -7.99505000e-02\n",
      "  -2.58416704e-01  1.75923926e-02 -1.21714204e-01 -9.00866891e-02\n",
      "   1.24985571e-01  7.68807217e-02 -4.44075881e-01 -1.57036989e-01\n",
      "   1.84707981e-01  3.85072162e-01 -1.49526012e-02  1.99983587e-01]\n",
      " [ 5.93763122e-02 -7.92377031e-03 -1.23394751e-01 -2.71535475e-01\n",
      "  -2.14850615e-01  2.45140376e-02 -1.31323774e-01  1.54187387e-02\n",
      "  -2.34525745e-01  3.94190242e-01  1.66409314e-01 -2.10176030e-01\n",
      "  -1.27400304e-01 -2.83874220e-02  1.98615837e-02  1.73530760e-02\n",
      "  -1.43934902e-01  1.73023491e-01 -1.35496390e-01 -1.46145832e-04\n",
      "  -9.21682632e-02 -8.07376038e-02  2.51415377e-01  8.99287462e-03\n",
      "   3.41434757e-01 -3.02998521e-01  2.73934633e-01 -3.36849044e-01\n",
      "   2.44809562e-01  6.37742503e-02 -7.44485650e-02  1.33376993e-02\n",
      "  -2.92130701e-02  1.86316925e-01  1.49507666e-01 -1.61615229e-01\n",
      "   1.68983654e-01 -2.09683895e-01 -6.62152944e-02 -2.32516770e-02]\n",
      " [-1.71444927e-01  6.81517890e-02  1.03012816e-01 -8.91896835e-02\n",
      "   1.36726402e-01  2.59286277e-02  7.23347530e-02  5.03649392e-02\n",
      "   8.43374971e-02 -2.86604393e-01 -1.78047183e-01 -2.38259553e-01\n",
      "   1.17145433e-01 -1.14293289e-01  2.85099857e-01  2.34947543e-01\n",
      "  -4.84481578e-02 -2.21608279e-01 -1.17021209e-01  8.81798541e-02\n",
      "   1.86043416e-02 -2.70013859e-01  1.45049845e-02  1.64218414e-01\n",
      "  -1.87738314e-01  2.25035120e-01 -1.09389703e-02 -1.04916637e-01\n",
      "  -2.82035237e-01 -7.14408844e-02 -2.06904315e-02  5.03842328e-02\n",
      "   8.87640846e-03 -3.37401496e-01  3.88074136e-01  1.46379521e-01\n",
      "  -7.80498406e-02 -2.71601646e-01 -1.67091549e-01  3.56224351e-01]\n",
      " [-3.50839042e-01 -7.55705285e-02 -1.66501491e-01  2.36160463e-01\n",
      "  -7.75914162e-02  7.05761353e-02 -3.03675634e-01  1.02723532e-01\n",
      "   2.07307193e-01 -3.87841386e-02  1.31461789e-01  1.45413528e-01\n",
      "   5.75643993e-02 -5.78142590e-02 -2.87997399e-01 -1.03924134e-02\n",
      "   3.26084202e-01 -1.21143373e-01  2.67163138e-01 -4.85524945e-02\n",
      "  -1.32500156e-01  1.91634386e-01 -1.84621204e-01  1.52767717e-01\n",
      "   3.32716513e-02 -2.68603570e-02  1.87967895e-01  5.99951339e-01\n",
      "   2.70293821e-01  1.02890632e-01  3.13070067e-01 -1.84307706e-01\n",
      "  -1.18354151e-01 -1.80393371e-04 -7.70958311e-02  8.54452698e-02\n",
      "  -1.40476524e-01 -1.68663401e-01 -8.50884599e-02 -1.85769960e-01]]\n"
     ]
    }
   ],
   "source": [
    "print(f\"Classes: {logreg.classes_}\")\n",
    "print(f\"Intercepts: {logreg.intercept_}\")\n",
    "print(f\"Coefficient: {logreg.coef_}\")"
   ]
  },
  {
   "cell_type": "code",
   "execution_count": 15,
   "metadata": {},
   "outputs": [],
   "source": [
    "import matplotlib.pyplot as plt\n",
    "from sklearn.metrics import (\n",
    "    classification_report,\n",
    "    confusion_matrix,\n",
    "    f1_score,\n",
    "    recall_score,\n",
    "    precision_score,\n",
    ")"
   ]
  },
  {
   "cell_type": "code",
   "execution_count": 16,
   "metadata": {},
   "outputs": [],
   "source": [
    "c_matrix = confusion_matrix(y_test_labels, logreg.predict(x_test_vectors))"
   ]
  },
  {
   "cell_type": "code",
   "execution_count": 17,
   "metadata": {},
   "outputs": [
    {
     "data": {
      "image/png": "[encoded data removed]",
      "text/plain": [
       "<Figure size 720x720 with 1 Axes>"
      ]
     },
     "metadata": {
      "needs_background": "light"
     },
     "output_type": "display_data"
    }
   ],
   "source": [
    "# Plot confusion matrix\n",
    "fig, ax = plt.subplots(figsize=(10, 10))\n",
    "ax.imshow(c_matrix)\n",
    "\n",
    "ax.set_ylabel(\"Actual Label\")\n",
    "ax.set_xlabel(\"Predicted Label\")\n",
    "labels = tuple(label_encoder.inverse_transform([0, 1, 2, 3, 4]))\n",
    "ax.xaxis.set(ticks=(0, 1, 2, 3, 4), ticklabels=labels)\n",
    "ax.yaxis.set(ticks=(0, 1, 2, 3, 4), ticklabels=labels)\n",
    "plt.title(\"Doc2Vec - Logistic Regression\")\n",
    "for i in range(len(labels)):  # ref: (https://realpython.com/logistic-regression-python/)\n",
    "    for j in range(len(labels)):\n",
    "        ax.text(j, i, c_matrix[i, j], ha='center', va='center', color='red')\n",
    "plt.savefig(\"doc2vec-logistic-regression\")"
   ]
  },
  {
   "cell_type": "code",
   "execution_count": 18,
   "metadata": {},
   "outputs": [
    {
     "name": "stdout",
     "output_type": "stream",
     "text": [
      "Precision Score: 0.9846153846153847\n",
      "Recall Score: 0.9833333333333333\n",
      "F1 Score: 0.9832280701754387\n"
     ]
    }
   ],
   "source": [
    "# Calculate key metrics\n",
    "precision = precision_score(y_test_labels, y_pred, average=\"weighted\")\n",
    "recall = recall_score(y_test_labels, y_pred, average=\"weighted\")\n",
    "f1 = f1_score(y_test_labels, y_pred, average=\"weighted\")\n",
    "\n",
    "print(f\"Precision Score: {precision}\")\n",
    "print(f\"Recall Score: {recall}\")\n",
    "print(f\"F1 Score: {f1}\")"
   ]
  },
  {
   "cell_type": "code",
   "execution_count": 19,
   "metadata": {},
   "outputs": [
    {
     "name": "stdout",
     "output_type": "stream",
     "text": [
      "                    precision    recall  f1-score   support\n",
      "\n",
      "        bankruptcy       1.00      1.00      1.00        14\n",
      "     cash-dividend       1.00      1.00      1.00        16\n",
      "   equity-offering       1.00      0.90      0.95        10\n",
      "merger-acquisition       0.92      1.00      0.96        12\n",
      "       stock-split       1.00      1.00      1.00         8\n",
      "\n",
      "          accuracy                           0.98        60\n",
      "         macro avg       0.98      0.98      0.98        60\n",
      "      weighted avg       0.98      0.98      0.98        60\n",
      "\n"
     ]
    }
   ],
   "source": [
    "# Classification Report\n",
    "print(classification_report(y_test, label_encoder.inverse_transform(y_pred)))"
   ]
  },
  {
   "cell_type": "code",
   "execution_count": null,
   "metadata": {},
   "outputs": [],
   "source": []
  },
  {
   "cell_type": "code",
   "execution_count": null,
   "metadata": {},
   "outputs": [],
   "source": []
  }
 ],
 "metadata": {
  "kernelspec": {
   "display_name": "Python 3",
   "language": "python",
   "name": "python3"
  },
  "language_info": {
   "codemirror_mode": {
    "name": "ipython",
    "version": 3
   },
   "file_extension": ".py",
   "mimetype": "text/x-python",
   "name": "python",
   "nbconvert_exporter": "python",
   "pygments_lexer": "ipython3",
   "version": "3.8.6"
  }
 },
 "nbformat": 4,
 "nbformat_minor": 4
}
