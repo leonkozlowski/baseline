{
 "cells": [
  {
   "cell_type": "code",
   "execution_count": 1,
   "metadata": {},
   "outputs": [],
   "source": [
    "import pickle\n",
    "\n",
    "from sklearn.model_selection import train_test_split\n",
    "from wbn.classifier import WBN\n",
    "from wbn.object import Document, DocumentData, Documents"
   ]
  },
  {
   "cell_type": "code",
   "execution_count": 2,
   "metadata": {},
   "outputs": [],
   "source": [
    "# Load dataset\n",
    "with open(\"../data/pr-newswire.pickle\", \"rb\") as infile:\n",
    "    raw_data = pickle.load(infile)\n",
    "\n",
    "# De-structure 'data' and 'target'\n",
    "data = raw_data.get(\"data\")\n",
    "target = raw_data.get(\"target\")\n",
    "\n",
    "# Construct Document's for each data/target entry\n",
    "pr_newswire = Documents(\n",
    "    [\n",
    "        Document(DocumentData(paragraphs, keywords), target[idx])\n",
    "        for idx, (paragraphs, keywords) in enumerate(data)\n",
    "    ]\n",
    ")\n",
    "\n",
    "# Train/test split\n",
    "x_train, x_test, y_train, y_test = train_test_split(\n",
    "    pr_newswire.data, pr_newswire.target, test_size=0.2\n",
    ")\n"
   ]
  },
  {
   "cell_type": "code",
   "execution_count": 3,
   "metadata": {},
   "outputs": [
    {
     "data": {
      "text/plain": [
       "[Classification(dag=<networkx.classes.digraph.DiGraph object at 0x13236cf40>, cls='equity-offering', corpus=['commenc', 'alloc', 'trade', 'bookrunn', 'rang', 'sell', 'separ', 'registr', 'close', 'placement', 'ipo', 'share', 'launch', 'complet', 'base', 'expect', 'success', 'upsiz', 'allot', 'term', 'consumm', 'announc', 'rais', 'propos', 'public', 'purchas', 'secondari', 'oversubscrib', 'offer', 'stock', 'issuanc', 'sold', 'price', 'initi', 'addit', 'prospectu', 'effect', 'intend', 'list', 'deal', 'proce', 'solicit', 'size', 'unit']),\n",
       " Classification(dag=<networkx.classes.digraph.DiGraph object at 0x132965520>, cls='merger-acquisition', corpus=['transact', 'financi', 'cash', 'tender', 'conting', 'exchang', 'capit', 'approv', 'right', 'enter', 'includ', 'agreement', 'valu', '5', 'condit', 'close', 'definit', 'substanti', 'reorgan', 'entri', 'acquisit', 'plan', 'busi', 'aggreg', 'potenti', 'strateg', 'share', 'cost', 'compani', 'base', 'expect', 'total', 'preliminari', 'estim', 'letter', 'announc', 'transmitt', 'ownership', 'public', 'purchas', 'enterpris', 'stock', 'price', 'addit', 'consid', 'compens', 'receipt', 'adjust', 'effect', 'deal', 'proce', 'conclud', 'bind', 'result', 'ordinari', 'disclos', 'state', 'stake', 'major', 'relat', 'paid', 'ratio', 'equiti', 'agre', 'receiv', 'complet', 'merger', 'success', 'privat', 'subject', 'pleas', 'intent', 'certain', 'term', 'sign', 'consider', 'select', 'divestitur', 'propos', 'own', 'today', 'payment', 'holder', 'pend', 'asset', 'competit', 'acquir', 'outstand', 'offer', 'regulatori', 'mergerco', 'market', 'synergi', 'sub', 'non', 'anticip', 'bid', 'go', 'interest']),\n",
       " Classification(dag=<networkx.classes.digraph.DiGraph object at 0x132965730>, cls='bankruptcy', corpus=['commenc', 'transact', 'bankrupt', 'financi', 'financ', 'approv', 'recapit', 'process', 'reorgan', 'receiv', 'plan', 'proceed', 'complet', 'possess', 'court', 'pursuant', 'restructur', 'term', 'note', 'motion', 'lead', 'announc', 'propos', 'voluntarili', 'corpor', 'cours', 'amend', 'exit', 'debtor', 'voluntari', 'debt', 'initi', 'declar', 'file', 'case', 'fund', 'access', 'chapter', 'bankruptci', 'emerg', '11', 'prepackag', 'protect', 'reduc']),\n",
       " Classification(dag=<networkx.classes.digraph.DiGraph object at 0x105bb71f0>, cls='stock-split', corpus=['trade', 'cash', 'dividend', 'new', 'approv', 'post', 'ratio', 'consolid', 'close', 'payabl', 'forward', 'receiv', 'exact', 'busi', 'record', 'share', 'stockhold', 'complet', 'expect', 'split', 'author', 'date', 'term', 'implement', 'effectu', 'announc', 'proport', 'round', 'propos', 'payment', 'lieu', 'pre', 'outstand', 'stock', 'evenli', 'declar', 'adjust', 'effect', 'revers', 'reclassifi', 'result', 'fraction', 'reduc', 'basi']),\n",
       " Classification(dag=<networkx.classes.digraph.DiGraph object at 0x105bb7130>, cls='cash-dividend', corpus=['ex', 'announc', 'dividend', 'cash', 'quarterli', 'regular', 'distribut', 'approv', 'pay', 'paid', 'payment', 'close', 'common', 'payabl', 'special', 'stock', 'busi', 'initi', 'declar', 'record', 'trust', 'share', 'stockhold', 'date'])]"
      ]
     },
     "execution_count": 3,
     "metadata": {},
     "output_type": "execute_result"
    }
   ],
   "source": [
    "# Build WBN\n",
    "wbn = WBN()\n",
    "\n",
    "# Fit WBN Model\n",
    "wbn.fit(x_train, y_train)"
   ]
  },
  {
   "cell_type": "code",
   "execution_count": 4,
   "metadata": {},
   "outputs": [],
   "source": [
    "# Predict\n",
    "pred = wbn.predict(x_test)\n",
    "\n",
    "# Reverse encode classes\n",
    "y_pred = wbn.reverse_encode(target=pred)"
   ]
  },
  {
   "cell_type": "code",
   "execution_count": 5,
   "metadata": {},
   "outputs": [],
   "source": [
    "import matplotlib.pyplot as plt\n",
    "from sklearn.metrics import (\n",
    "    classification_report,\n",
    "    confusion_matrix,\n",
    "    f1_score,\n",
    "    recall_score,\n",
    "    precision_score,\n",
    ")"
   ]
  },
  {
   "cell_type": "code",
   "execution_count": 6,
   "metadata": {},
   "outputs": [],
   "source": [
    "c_matrix = confusion_matrix(y_test, y_pred)"
   ]
  },
  {
   "cell_type": "code",
   "execution_count": 7,
   "metadata": {},
   "outputs": [
    {
     "data": {
      "image/png": "[encoded data removed]",
      "text/plain": [
       "<Figure size 720x720 with 1 Axes>"
      ]
     },
     "metadata": {
      "needs_background": "light"
     },
     "output_type": "display_data"
    }
   ],
   "source": [
    "# Plot confusion matrix\n",
    "fig, ax = plt.subplots(figsize=(10, 10))\n",
    "ax.imshow(c_matrix)\n",
    "\n",
    "ax.set_ylabel(\"Actual Label\")\n",
    "ax.set_xlabel(\"Predicted Label\")\n",
    "labels = tuple(wbn.reverse_encode([0, 1, 2, 3, 4]))\n",
    "ax.xaxis.set(ticks=(0, 1, 2, 3, 4), ticklabels=labels)\n",
    "ax.yaxis.set(ticks=(0, 1, 2, 3, 4), ticklabels=labels)\n",
    "for i in range(len(labels)):  # ref: (https://realpython.com/logistic-regression-python/)\n",
    "    for j in range(len(labels)):\n",
    "        ax.text(j, i, c_matrix[i, j], ha='center', va='center', color='red')"
   ]
  },
  {
   "cell_type": "code",
   "execution_count": 8,
   "metadata": {},
   "outputs": [
    {
     "name": "stdout",
     "output_type": "stream",
     "text": [
      "Precision Score: 0.9547297297297298\n",
      "Recall Score: 0.9459459459459459\n",
      "F1 Score: 0.9463808636222429\n"
     ]
    }
   ],
   "source": [
    "# Calculate key metrics\n",
    "precision = precision_score(y_test, y_pred, average=\"weighted\")\n",
    "recall = recall_score(y_test, y_pred, average=\"weighted\")\n",
    "f1 = f1_score(y_test, y_pred, average=\"weighted\")\n",
    "\n",
    "print(f\"Precision Score: {precision}\")\n",
    "print(f\"Recall Score: {recall}\")\n",
    "print(f\"F1 Score: {f1}\")"
   ]
  },
  {
   "cell_type": "code",
   "execution_count": null,
   "metadata": {},
   "outputs": [],
   "source": []
  }
 ],
 "metadata": {
  "kernelspec": {
   "display_name": "Python 3",
   "language": "python",
   "name": "python3"
  },
  "language_info": {
   "codemirror_mode": {
    "name": "ipython",
    "version": 3
   },
   "file_extension": ".py",
   "mimetype": "text/x-python",
   "name": "python",
   "nbconvert_exporter": "python",
   "pygments_lexer": "ipython3",
   "version": "3.8.6"
  }
 },
 "nbformat": 4,
 "nbformat_minor": 4
}
