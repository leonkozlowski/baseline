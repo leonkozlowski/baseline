{
 "cells": [
  {
   "cell_type": "code",
   "execution_count": 1,
   "metadata": {},
   "outputs": [],
   "source": [
    "import pickle\n",
    "\n",
    "from sklearn.model_selection import train_test_split\n",
    "from wbn.classifier import WBN\n",
    "from wbn.object import Document, DocumentData, Documents"
   ]
  },
  {
   "cell_type": "code",
   "execution_count": 2,
   "metadata": {},
   "outputs": [],
   "source": [
    "# Load dataset\n",
    "with open(\"../data/pr-newswire.pickle\", \"rb\") as infile:\n",
    "    raw_data = pickle.load(infile)\n",
    "\n",
    "# De-structure 'data' and 'target'\n",
    "data = raw_data.get(\"data\")\n",
    "target = raw_data.get(\"target\")\n",
    "\n",
    "# Construct Document's for each data/target entry\n",
    "pr_newswire = Documents(\n",
    "    [\n",
    "        Document(DocumentData(paragraphs, keywords), target[idx])\n",
    "        for idx, (paragraphs, keywords) in enumerate(data)\n",
    "    ]\n",
    ")\n",
    "\n",
    "# Train/test split\n",
    "x_train, x_test, y_train, y_test = train_test_split(\n",
    "    pr_newswire.data, pr_newswire.target, test_size=0.2\n",
    ")"
   ]
  },
  {
   "cell_type": "code",
   "execution_count": 3,
   "metadata": {},
   "outputs": [
    {
     "data": {
      "text/plain": [
       "[Classification(dag=<networkx.classes.digraph.DiGraph object at 0x104994040>, cls='stock-split', corpus=['exist', 'adjust', 'number', 'confirm', 'date', 'approv', 'convert', 'receiv', 'effect', 'stock', 'dividend', 'reclassifi', 'lieu', 'reduc', 'forward', 'post', 'transact', 'declar', 'payment', 'cash', 'term', 'complet', 'author', 'implement', 'ratio', 'offici', 'consolid', 'price', 'expect', 'fraction', 'plan', 'propos', 'revers', 'new', 'basi', 'announc', 'proport', 'payabl', 'close', 'outstand', 'busi', 'proceed', 'share', 'upward', 'trade', 'split', 'round', 'exact', 'result', 'effectu', 'pre', 'evenli', 'stockhold', 'record']),\n",
       " Classification(dag=<networkx.classes.digraph.DiGraph object at 0x10493b520>, cls='merger-acquisition', corpus=['offer', 'pleas', 'relat', 'approv', 'sign', 'gross', 'receiv', 'estim', 'compens', 'total', 'forma', 'stock', 'proce', 'own', 'reach', 'sub', 'potenti', 'bid', 'stake', 'condit', 'go', 'major', 'preliminari', 'enterpris', 'divestitur', 'ownership', 'amalgam', 'success', 'agre', 'exchang', 'volum', 'state', 'anticip', 'ratio', 'privat', 'aggreg', '5', 'transmitt', 'definit', 'non', 'propos', 'valu', 'understand', 'competit', 'purchas', 'consider', 'special', 'financi', 'close', 'subject', 'acquisit', 'merg', 'pend', 'deal', 'merger', 'share', 'today', 'acquir', 'capit', 'enter', 'qualifi', 'asset', 'adjust', 'combin', 'public', 'technolog', 'amend', 'biopharmaceut', 'negoti', 'effect', 'transact', 'payment', 'cash', 'disclos', 'addit', 'compani', 'strateg', 'term', 'agreement', 'equiti', 'complet', 'regulatori', 'bind', 'base', 'cost', 'intent', 'conclud', 'price', 'expect', 'purpos', 'select', 'paid', 'plan', 'tender', 'reorgan', 'announc', 'right', 'synergi', 'letter', 'certain', 'closur', 'outstand', 'busi', 'consid', 'exclus', 'result', 'holder', 'mergerco', 'receipt', 'equal']),\n",
       " Classification(dag=<networkx.classes.digraph.DiGraph object at 0x10493bf10>, cls='bankruptcy', corpus=['fund', 'prepack', 'chapter', 'emerg', 'approv', 'comprehens', 'supervis', 'receiv', 'exit', 'debt', 'subchapt', 'financ', 'access', 'reduc', 'achiev', 'structur', 'post', '11', 'decis', 'declar', 'initi', 'disclosur', 'prearrang', 'order', 'process', 'success', 'possess', 'liquid', 'state', 'profit', 'intend', 'cours', 'conclus', 'financi', 'close', 'subject', 'bankruptci', 'loan', 'effectu', 'recapit', 'indebted', 'capit', 'enter', 'packag', 'auction', 'balanc', 'equit', 'confirm', 'serv', 'protect', 'amend', 'relief', 'statement', 'effect', 'sale', 'voluntarili', '7', 'corpor', 'creditor', 'transact', 'debtor', 'case', 'cash', 'revolv', 'rais', 'code', 'compani', 'distribut', 'court', 'prepackag', 'term', 'agreement', 'resolut', 'complet', 'voluntari', 'commenc', 'inform', 'lead', 'implement', 'conclud', 'litig', 'file', 'expect', 'restructur', 'note', 'plan', 'pursuant', 'reorgan', 'announc', 'earli', 'secur', 'insolv', 'oper', 'petit', 'proceed', 'complex', 'outcom', 'field', 'result', 'bankrupt']),\n",
       " Classification(dag=<networkx.classes.digraph.DiGraph object at 0x10493b490>, cls='cash-dividend', corpus=['date', 'approv', 'reinstat', 'receiv', 'board', 'dividend', 'stock', 'increas', 'quarterli', 'declar', 'payment', 'initi', 'cash', 'distribut', 'agre', 'author', 'regular', 'pay', 'paid', 'announc', 'resum', 'special', 'payabl', 'close', 'common', 'busi', 'share', 'stockhold', 'ex', 'rate', 'trust', 'record']),\n",
       " Classification(dag=<networkx.classes.digraph.DiGraph object at 0x10493b7f0>, cls='equity-offering', corpus=['offer', 'settlement', 'separ', 'relat', 'approv', 'consumm', 'total', 'proce', 'stock', 'issu', 'financ', 'global', 'continu', 'ipo', 'unit', 'initi', 'success', 'sell', 'agre', 'applic', 'anticip', 'accomplish', 'privat', 'intend', 'size', 'propos', 'elect', 'underwritten', 'purchas', 'close', 'list', 'underwrit', 'share', 'today', 'rang', 'matur', 'newli', 'book', 'bookrunn', 'combin', 'public', 'upsiz', 'prospectu', 'negoti', 'regist', 'transact', 'exercis', 'rais', 'addit', 'term', 'equiti', 'complet', 'commenc', 'issuanc', 'intent', 'base', 'price', 'expect', 'runner', 'file', 'oversubscrib', 'alloc', 'announc', 'secur', 'payabl', 'sold', 'busi', 'placement', 'trade', 'result', 'launch', 'registr', 'allot'])]"
      ]
     },
     "execution_count": 3,
     "metadata": {},
     "output_type": "execute_result"
    }
   ],
   "source": [
    "# Build WBN\n",
    "wbn = WBN()\n",
    "\n",
    "# Fit WBN Model\n",
    "wbn.fit(x_train, y_train)"
   ]
  },
  {
   "cell_type": "code",
   "execution_count": 4,
   "metadata": {},
   "outputs": [],
   "source": [
    "# Predict\n",
    "pred = wbn.predict(x_test)\n",
    "\n",
    "# Reverse encode classes\n",
    "y_pred = wbn.reverse_encode(target=pred)"
   ]
  },
  {
   "cell_type": "code",
   "execution_count": 5,
   "metadata": {},
   "outputs": [],
   "source": [
    "import matplotlib.pyplot as plt\n",
    "from sklearn.metrics import (\n",
    "    classification_report,\n",
    "    confusion_matrix,\n",
    "    f1_score,\n",
    "    recall_score,\n",
    "    precision_score,\n",
    ")"
   ]
  },
  {
   "cell_type": "code",
   "execution_count": 6,
   "metadata": {},
   "outputs": [],
   "source": [
    "c_matrix = confusion_matrix(y_test, y_pred)"
   ]
  },
  {
   "cell_type": "code",
   "execution_count": 7,
   "metadata": {},
   "outputs": [
    {
     "data": {
      "image/png": "[encoded data removed]",
      "text/plain": [
       "<Figure size 720x720 with 1 Axes>"
      ]
     },
     "metadata": {
      "needs_background": "light"
     },
     "output_type": "display_data"
    }
   ],
   "source": [
    "# Plot confusion matrix\n",
    "fig, ax = plt.subplots(figsize=(10, 10))\n",
    "ax.imshow(c_matrix)\n",
    "\n",
    "ax.set_ylabel(\"Actual Label\")\n",
    "ax.set_xlabel(\"Predicted Label\")\n",
    "labels = tuple(wbn.reverse_encode([0, 1, 2, 3, 4]))\n",
    "ax.xaxis.set(ticks=(0, 1, 2, 3, 4), ticklabels=labels)\n",
    "ax.yaxis.set(ticks=(0, 1, 2, 3, 4), ticklabels=labels)\n",
    "plt.title(\"wbn\")\n",
    "for i in range(len(labels)):  # ref: (https://realpython.com/logistic-regression-python/)\n",
    "    for j in range(len(labels)):\n",
    "        ax.text(j, i, c_matrix[i, j], ha='center', va='center', color='red')\n",
    "plt.savefig(\"wbn\")"
   ]
  },
  {
   "cell_type": "code",
   "execution_count": 8,
   "metadata": {},
   "outputs": [
    {
     "name": "stdout",
     "output_type": "stream",
     "text": [
      "Precision Score: 0.9405458089668616\n",
      "Recall Score: 0.9333333333333333\n",
      "F1 Score: 0.9264161220043572\n"
     ]
    }
   ],
   "source": [
    "# Calculate key metrics\n",
    "precision = precision_score(y_test, y_pred, average=\"weighted\")\n",
    "recall = recall_score(y_test, y_pred, average=\"weighted\")\n",
    "f1 = f1_score(y_test, y_pred, average=\"weighted\")\n",
    "\n",
    "print(f\"Precision Score: {precision}\")\n",
    "print(f\"Recall Score: {recall}\")\n",
    "print(f\"F1 Score: {f1}\")"
   ]
  },
  {
   "cell_type": "code",
   "execution_count": 9,
   "metadata": {},
   "outputs": [
    {
     "name": "stdout",
     "output_type": "stream",
     "text": [
      "                    precision    recall  f1-score   support\n",
      "\n",
      "        bankruptcy       1.00      1.00      1.00        12\n",
      "     cash-dividend       0.89      1.00      0.94        16\n",
      "   equity-offering       0.89      1.00      0.94        17\n",
      "merger-acquisition       1.00      0.89      0.94         9\n",
      "       stock-split       1.00      0.50      0.67         6\n",
      "\n",
      "          accuracy                           0.93        60\n",
      "         macro avg       0.96      0.88      0.90        60\n",
      "      weighted avg       0.94      0.93      0.93        60\n",
      "\n"
     ]
    }
   ],
   "source": [
    "# Classification Report\n",
    "print(classification_report(y_test, y_pred))"
   ]
  }
 ],
 "metadata": {
  "kernelspec": {
   "display_name": "Python 3",
   "language": "python",
   "name": "python3"
  },
  "language_info": {
   "codemirror_mode": {
    "name": "ipython",
    "version": 3
   },
   "file_extension": ".py",
   "mimetype": "text/x-python",
   "name": "python",
   "nbconvert_exporter": "python",
   "pygments_lexer": "ipython3",
   "version": "3.8.6"
  }
 },
 "nbformat": 4,
 "nbformat_minor": 4
}
