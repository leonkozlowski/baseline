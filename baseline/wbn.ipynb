{
 "cells": [
  {
   "cell_type": "code",
   "execution_count": 1,
   "metadata": {},
   "outputs": [],
   "source": [
    "import pickle\n",
    "\n",
    "from sklearn.model_selection import train_test_split\n",
    "from wbn.classifier import WBN\n",
    "from wbn.object import Document, DocumentData, Documents"
   ]
  },
  {
   "cell_type": "code",
   "execution_count": 2,
   "metadata": {},
   "outputs": [],
   "source": [
    "# Load dataset\n",
    "with open(\"../data/pr-newswire.pickle\", \"rb\") as infile:\n",
    "    raw_data = pickle.load(infile)\n",
    "\n",
    "# De-structure 'data' and 'target'\n",
    "data = raw_data.get(\"data\")\n",
    "target = raw_data.get(\"target\")\n",
    "\n",
    "# Construct Document's for each data/target entry\n",
    "pr_newswire = Documents(\n",
    "    [\n",
    "        Document(DocumentData(paragraphs, keywords), target[idx])\n",
    "        for idx, (paragraphs, keywords) in enumerate(data)\n",
    "    ]\n",
    ")\n",
    "\n",
    "# Train/test split\n",
    "x_train, x_test, y_train, y_test = train_test_split(\n",
    "    pr_newswire.data, pr_newswire.target, test_size=0.2\n",
    ")\n"
   ]
  },
  {
   "cell_type": "code",
   "execution_count": 3,
   "metadata": {},
   "outputs": [
    {
     "data": {
      "text/plain": [
       "[Classification(dag=<networkx.classes.digraph.DiGraph object at 0x10e728040>, cls='equity-offering', corpus=['announc', 'intent', 'base', 'accomplish', 'approv', 'commenc', 'final', 'proce', 'transact', 'class', 'combin', 'stock', 'sold', 'success', 'term', 'applic', 'trade', 'offer', 'close', 'separ', 'propos', 'addit', 'newli', 'regist', 'issu', 'purchas', 'solicit', 'allot', 'global', 'complet', 'anticip', 'bookrunn', 'registr', 'ipo', 'initi', 'equiti', 'share', 'effect', 'underwritten', 'placement', 'book', 'underwrit', 'runner', 'secondari', 'rang', 'financ', 'launch', 'public', 'negoti', 'payabl', 'issuanc', 'list', 'expect', 'consumm', 'upsiz', 'offici', 'matur', 'privat', 'exchang', 'alloc', 'total', 'file', 'price', 'prospectu', 'deal', 'busi', 'unit', 'result', 'size', 'relat']),\n",
       " Classification(dag=<networkx.classes.digraph.DiGraph object at 0x10e6ce7f0>, cls='merger-acquisition', corpus=['valu', 'closur', 'consid', 'announc', 'intent', 'tender', 'divestitur', 'amend', 'base', 'approv', 'major', 'go', 'bind', 'proce', 'transact', 'agre', 'substanti', 'combin', 'stock', 'receipt', 'success', 'plan', 'term', 'ordinari', 'merger', 'conting', 'stake', 'enter', 'qualifi', 'offer', 'definit', 'propos', 'close', 'special', 'select', 'addit', 'payment', 'condit', 'understand', 'compens', 'volum', 'cost', 'financi', 'sub', 'purchas', 'state', 'amalgam', 'complet', 'anticip', 'subject', 'sign', 'strateg', 'biopharmaceut', 'equiti', 'aggreg', 'share', 'effect', 'enterpris', 'cash', 'expens', 'forma', 'pay', 'entri', 'mergerco', 'purpos', 'non', 'own', 'requir', 'certain', 'reach', 'acquir', 'equal', 'gross', 'consider', 'market', 'negoti', 'technolog', 'capit', 'holder', 'expect', 'today', 'merg', 'agreement', 'transmitt', 'regulatori', 'disclos', 'asset', 'privat', 'exchang', 'includ', 'total', 'acquisit', 'conclud', 'pend', 'price', 'interest', 'outstand', 'receiv', 'paid', 'deal', 'adjust', 'busi', 'preliminari', 'potenti', 'result', 'exclus', 'pleas', 'right', 'relat', 'letter']),\n",
       " Classification(dag=<networkx.classes.digraph.DiGraph object at 0x10e6ceee0>, cls='bankruptcy', corpus=['liquid', 'resolut', 'order', 'announc', '7', 'comprehens', 'recapit', 'amend', 'voluntarili', 'inform', 'approv', 'commenc', 'relief', 'transact', 'access', 'litig', 'revolv', 'voluntari', 'distribut', 'success', 'plan', 'prepackag', 'confirm', 'protect', 'fund', 'term', 'enter', 'bankruptci', 'lender', 'balanc', 'close', 'field', 'propos', 'pursuant', 'chapter', 'financi', '11', 'lead', 'earli', 'state', 'consensu', 'indebted', 'subchapt', 'complet', 'post', 'auction', 'subject', 'equit', 'initi', 'loan', 'prearrang', 'debt', 'effect', 'declar', 'cash', 'motion', 'process', 'debtor', 'intend', 'restructur', 'emerg', 'possess', 'financ', 'reach', 'case', 'supervis', 'complex', 'effectu', 'rais', 'prepack', 'expect', 'petit', 'bankrupt', 'compani', 'corpor', 'exit', 'sale', 'agreement', 'insolv', 'profit', 'oper', 'court', 'file', 'conclud', 'proceed', 'obtain', 'code', 'disclosur', 'reduc', 'receiv', 'creditor', 'serv', 'cours', 'conclus', 'decis', 'reorgan', 'result', 'pleas', 'rule', 'statement', 'secur']),\n",
       " Classification(dag=<networkx.classes.digraph.DiGraph object at 0x10c7b7c70>, cls='stock-split', corpus=['round', 'reclassifi', 'announc', 'amend', 'basi', 'approv', 'exist', 'exact', 'evenli', 'implement', 'split', 'transact', 'author', 'stock', 'effectu', 'rais', 'plan', 'confirm', 'expect', 'revers', 'trade', 'offici', 'pre', 'propos', 'separ', 'payment', 'fraction', 'date', 'proport', 'proceed', 'ratio', 'price', 'lieu', 'outstand', 'number', 'receiv', 'new', 'post', 'adjust', 'record', 'complet', 'cash', 'convert', 'upward', 'forward', 'result', 'share', 'stockhold', 'effect', 'declar', 'consolid']),\n",
       " Classification(dag=<networkx.classes.digraph.DiGraph object at 0x139d5e760>, cls='cash-dividend', corpus=['pay', 'reinstat', 'announc', 'approv', 'trust', 'resum', 'agre', 'payabl', 'author', 'stock', 'distribut', 'regular', 'capit', 'common', 'ex', 'opt', 'board', 'close', 'special', 'return', 'payment', 'drip', 'date', 'reinvest', 'dividend', 'increas', 'paid', 'receiv', 'record', 'busi', 'quarterli', 'share', 'polici', 'rate', 'declar', 'cash'])]"
      ]
     },
     "execution_count": 3,
     "metadata": {},
     "output_type": "execute_result"
    }
   ],
   "source": [
    "# Build WBN\n",
    "wbn = WBN()\n",
    "\n",
    "# Fit WBN Model\n",
    "wbn.fit(x_train, y_train)"
   ]
  },
  {
   "cell_type": "code",
   "execution_count": 4,
   "metadata": {},
   "outputs": [],
   "source": [
    "# Predict\n",
    "pred = wbn.predict(x_test)\n",
    "\n",
    "# Reverse encode classes\n",
    "y_pred = wbn.reverse_encode(target=pred)"
   ]
  },
  {
   "cell_type": "code",
   "execution_count": 5,
   "metadata": {},
   "outputs": [],
   "source": [
    "import matplotlib.pyplot as plt\n",
    "from sklearn.metrics import (\n",
    "    classification_report,\n",
    "    confusion_matrix,\n",
    "    f1_score,\n",
    "    recall_score,\n",
    "    precision_score,\n",
    ")"
   ]
  },
  {
   "cell_type": "code",
   "execution_count": 6,
   "metadata": {},
   "outputs": [],
   "source": [
    "c_matrix = confusion_matrix(y_test, y_pred)"
   ]
  },
  {
   "cell_type": "code",
   "execution_count": 7,
   "metadata": {},
   "outputs": [
    {
     "data": {
      "image/png": "[encoded data removed]",
      "text/plain": [
       "<Figure size 720x720 with 1 Axes>"
      ]
     },
     "metadata": {
      "needs_background": "light"
     },
     "output_type": "display_data"
    }
   ],
   "source": [
    "# Plot confusion matrix\n",
    "fig, ax = plt.subplots(figsize=(10, 10))\n",
    "ax.imshow(c_matrix)\n",
    "\n",
    "ax.set_ylabel(\"Actual Label\")\n",
    "ax.set_xlabel(\"Predicted Label\")\n",
    "labels = tuple(wbn.reverse_encode([0, 1, 2, 3, 4]))\n",
    "ax.xaxis.set(ticks=(0, 1, 2, 3, 4), ticklabels=labels)\n",
    "ax.yaxis.set(ticks=(0, 1, 2, 3, 4), ticklabels=labels)\n",
    "for i in range(len(labels)):  # ref: (https://realpython.com/logistic-regression-python/)\n",
    "    for j in range(len(labels)):\n",
    "        ax.text(j, i, c_matrix[i, j], ha='center', va='center', color='red')"
   ]
  },
  {
   "cell_type": "code",
   "execution_count": 8,
   "metadata": {},
   "outputs": [
    {
     "name": "stdout",
     "output_type": "stream",
     "text": [
      "Precision Score: 0.9149999999999999\n",
      "Recall Score: 0.9\n",
      "F1 Score: 0.8901651651651652\n"
     ]
    }
   ],
   "source": [
    "# Calculate key metrics\n",
    "precision = precision_score(y_test, y_pred, average=\"weighted\")\n",
    "recall = recall_score(y_test, y_pred, average=\"weighted\")\n",
    "f1 = f1_score(y_test, y_pred, average=\"weighted\")\n",
    "\n",
    "print(f\"Precision Score: {precision}\")\n",
    "print(f\"Recall Score: {recall}\")\n",
    "print(f\"F1 Score: {f1}\")"
   ]
  },
  {
   "cell_type": "code",
   "execution_count": null,
   "metadata": {},
   "outputs": [],
   "source": []
  },
  {
   "cell_type": "code",
   "execution_count": null,
   "metadata": {},
   "outputs": [],
   "source": []
  }
 ],
 "metadata": {
  "kernelspec": {
   "display_name": "Python 3",
   "language": "python",
   "name": "python3"
  },
  "language_info": {
   "codemirror_mode": {
    "name": "ipython",
    "version": 3
   },
   "file_extension": ".py",
   "mimetype": "text/x-python",
   "name": "python",
   "nbconvert_exporter": "python",
   "pygments_lexer": "ipython3",
   "version": "3.8.6"
  }
 },
 "nbformat": 4,
 "nbformat_minor": 4
}
