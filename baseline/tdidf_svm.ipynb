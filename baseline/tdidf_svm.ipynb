{
 "cells": [
  {
   "cell_type": "code",
   "execution_count": 1,
   "metadata": {},
   "outputs": [],
   "source": [
    "import numpy as np\n",
    "import pandas as pd\n",
    "\n",
    "from sklearn.feature_extraction.text import TfidfVectorizer\n",
    "from sklearn.model_selection import train_test_split\n",
    "from sklearn.preprocessing import LabelEncoder\n",
    "from sklearn.svm import SVC"
   ]
  },
  {
   "cell_type": "code",
   "execution_count": 2,
   "metadata": {},
   "outputs": [],
   "source": [
    "# load PR Newswire Annotated Dataset\n",
    "pr_newswire = pd.read_csv(\"../data/pr-newswire.csv\")"
   ]
  },
  {
   "cell_type": "code",
   "execution_count": 3,
   "metadata": {},
   "outputs": [],
   "source": [
    "raw_news_stories = pr_newswire[\"data\"]\n",
    "\n",
    "# Establish data and target for vectorization\n",
    "stories = raw_news_stories\n",
    "classifications = list(pr_newswire[\"target\"])"
   ]
  },
  {
   "cell_type": "code",
   "execution_count": 4,
   "metadata": {},
   "outputs": [],
   "source": [
    "# Build Vectorizer\n",
    "tfidf_v = TfidfVectorizer()\n",
    "vectorized = tfidf_v.fit_transform(stories)"
   ]
  },
  {
   "cell_type": "code",
   "execution_count": 5,
   "metadata": {},
   "outputs": [],
   "source": [
    "# Train/test split\n",
    "x_train, x_test, y_train, y_test = train_test_split(\n",
    "    vectorized, classifications, test_size=0.20\n",
    ")"
   ]
  },
  {
   "cell_type": "code",
   "execution_count": 6,
   "metadata": {},
   "outputs": [],
   "source": [
    "# Build LabelEncoder for training\n",
    "label_encoder = LabelEncoder()\n",
    "label_encoder.fit(y_train)\n",
    "\n",
    "# Encode training lables\n",
    "y_train_labels = label_encoder.transform(np.asarray(y_train))"
   ]
  },
  {
   "cell_type": "code",
   "execution_count": 7,
   "metadata": {},
   "outputs": [
    {
     "data": {
      "text/plain": [
       "SVC()"
      ]
     },
     "execution_count": 7,
     "metadata": {},
     "output_type": "execute_result"
    }
   ],
   "source": [
    "# Fit SVM \"rbf\" Kernral\n",
    "rbf_svm = SVC(kernel=\"rbf\")\n",
    "rbf_svm.fit(x_train, y_train)"
   ]
  },
  {
   "cell_type": "code",
   "execution_count": 8,
   "metadata": {},
   "outputs": [],
   "source": [
    "y_pred = rbf_svm.predict(x_test)"
   ]
  },
  {
   "cell_type": "code",
   "execution_count": 9,
   "metadata": {},
   "outputs": [],
   "source": [
    "from sklearn.metrics import (\n",
    "    classification_report,\n",
    "    confusion_matrix,\n",
    "    f1_score,\n",
    "    recall_score,\n",
    "    precision_score,\n",
    ")"
   ]
  },
  {
   "cell_type": "code",
   "execution_count": 10,
   "metadata": {},
   "outputs": [],
   "source": [
    "c_matrix = confusion_matrix(y_test, y_pred)"
   ]
  },
  {
   "cell_type": "code",
   "execution_count": 11,
   "metadata": {},
   "outputs": [
    {
     "data": {
      "image/png": "[encoded data removed]",
      "text/plain": [
       "<Figure size 720x720 with 1 Axes>"
      ]
     },
     "metadata": {
      "needs_background": "light"
     },
     "output_type": "display_data"
    }
   ],
   "source": [
    "import matplotlib.pyplot as plt\n",
    "\n",
    "# Plot confusion matrix\n",
    "fig, ax = plt.subplots(figsize=(10, 10))\n",
    "ax.imshow(c_matrix)\n",
    "\n",
    "ax.set_ylabel(\"Actual Label\")\n",
    "ax.set_xlabel(\"Predicted Label\")\n",
    "labels = tuple(label_encoder.inverse_transform([0, 1, 2, 3, 4]))\n",
    "ax.xaxis.set(ticks=(0, 1, 2, 3, 4), ticklabels=labels)\n",
    "ax.yaxis.set(ticks=(0, 1, 2, 3, 4), ticklabels=labels)\n",
    "plt.title(\"TFIDF Vectorized - RBF Kernel SVM\")\n",
    "for i in range(len(labels)):  # ref: (https://realpython.com/logistic-regression-python/)\n",
    "    for j in range(len(labels)):\n",
    "        ax.text(j, i, c_matrix[i, j], ha='center', va='center', color='red')\n",
    "plt.savefig(\"tfidf-vectorized-rbf-kernel-svm\")"
   ]
  },
  {
   "cell_type": "code",
   "execution_count": 12,
   "metadata": {},
   "outputs": [
    {
     "name": "stdout",
     "output_type": "stream",
     "text": [
      "Precision Score: 0.9414285714285715\n",
      "Recall Score: 0.9333333333333333\n",
      "F1 Score: 0.9315878156930789\n"
     ]
    }
   ],
   "source": [
    "# Calculate key metrics\n",
    "precision = precision_score(y_test, y_pred, average=\"weighted\")\n",
    "recall = recall_score(y_test, y_pred, average=\"weighted\")\n",
    "f1 = f1_score(y_test, y_pred, average=\"weighted\")\n",
    "\n",
    "print(f\"Precision Score: {precision}\")\n",
    "print(f\"Recall Score: {recall}\")\n",
    "print(f\"F1 Score: {f1}\")"
   ]
  },
  {
   "cell_type": "code",
   "execution_count": 13,
   "metadata": {},
   "outputs": [
    {
     "name": "stdout",
     "output_type": "stream",
     "text": [
      "                    precision    recall  f1-score   support\n",
      "\n",
      "        bankruptcy       1.00      0.92      0.96        13\n",
      "     cash-dividend       0.90      1.00      0.95        18\n",
      "   equity-offering       1.00      0.75      0.86        12\n",
      "merger-acquisition       0.86      1.00      0.92        12\n",
      "       stock-split       1.00      1.00      1.00         5\n",
      "\n",
      "          accuracy                           0.93        60\n",
      "         macro avg       0.95      0.93      0.94        60\n",
      "      weighted avg       0.94      0.93      0.93        60\n",
      "\n"
     ]
    }
   ],
   "source": [
    "# Classification Report\n",
    "print(classification_report(y_test, y_pred))"
   ]
  },
  {
   "cell_type": "code",
   "execution_count": null,
   "metadata": {},
   "outputs": [],
   "source": []
  }
 ],
 "metadata": {
  "kernelspec": {
   "display_name": "Python 3",
   "language": "python",
   "name": "python3"
  },
  "language_info": {
   "codemirror_mode": {
    "name": "ipython",
    "version": 3
   },
   "file_extension": ".py",
   "mimetype": "text/x-python",
   "name": "python",
   "nbconvert_exporter": "python",
   "pygments_lexer": "ipython3",
   "version": "3.8.6"
  }
 },
 "nbformat": 4,
 "nbformat_minor": 4
}
